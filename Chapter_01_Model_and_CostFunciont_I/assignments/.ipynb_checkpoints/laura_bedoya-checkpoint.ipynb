{
 "cells": [
  {
   "cell_type": "code",
   "execution_count": 7,
   "metadata": {
    "collapsed": false
   },
   "outputs": [
    {
     "name": "stdout",
     "output_type": "stream",
     "text": [
      "10.1317216486149\n"
     ]
    }
   ],
   "source": [
    "import numpy as np\n",
    "from scipy.optimize import fsolve\n",
    "from sympy import *\n",
    "x=Symbol('x') \n",
    "y=(0.07031)\n",
    "z=(2)\n",
    "w=(72.9)\n",
    "a=(2.038e+04)\n",
    "web=(100000)\n",
    "h=(7*24)\n",
    "fbt2 = y* x ** z -w  * x + a\n",
    "t = solve(fbt2-web, x)\n",
    "m=max(t)/(h)\n",
    "print (m)"
   ]
  },
  {
   "cell_type": "code",
   "execution_count": null,
   "metadata": {
    "collapsed": true
   },
   "outputs": [],
   "source": []
  }
 ],
 "metadata": {
  "anaconda-cloud": {},
  "kernelspec": {
   "display_name": "Python 2",
   "language": "python",
   "name": "python2"
  },
  "language_info": {
   "codemirror_mode": {
    "name": "ipython",
    "version": 2
   },
   "file_extension": ".py",
   "mimetype": "text/x-python",
   "name": "python",
   "nbconvert_exporter": "python",
   "pygments_lexer": "ipython2",
   "version": "2.7.12"
  }
 },
 "nbformat": 4,
 "nbformat_minor": 0
}
