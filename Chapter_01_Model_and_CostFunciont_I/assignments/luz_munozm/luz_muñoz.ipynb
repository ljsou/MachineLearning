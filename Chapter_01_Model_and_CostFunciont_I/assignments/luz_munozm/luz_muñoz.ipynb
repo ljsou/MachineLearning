{
 "cells": [
  {
   "cell_type": "markdown",
   "metadata": {},
   "source": [
    "#                                     EJERCICIO DE REGRESIÓN LINEAL "
   ]
  },
  {
   "cell_type": "code",
   "execution_count": 62,
   "metadata": {
    "collapsed": false
   },
   "outputs": [
    {
     "name": "stdout",
     "output_type": "stream",
     "text": [
      "[[  1.00000000e+00   2.27200000e+03]\n",
      " [  2.00000000e+00              nan]\n",
      " [  3.00000000e+00   1.38600000e+03]\n",
      " [  4.00000000e+00   1.36500000e+03]\n",
      " [  5.00000000e+00   1.48800000e+03]\n",
      " [  6.00000000e+00   1.33700000e+03]\n",
      " [  7.00000000e+00   1.88300000e+03]\n",
      " [  8.00000000e+00   2.28300000e+03]\n",
      " [  9.00000000e+00   1.33500000e+03]\n",
      " [  1.00000000e+01   1.02500000e+03]]\n",
      "(743L, 2L)\n"
     ]
    }
   ],
   "source": [
    "import scipy as sp\n",
    "\n",
    "data = sp.genfromtxt(\"data/web_traffic.tsv\", delimiter=\"\\t\")\n",
    "print(data[:10])\n",
    "print(data.shape)\n"
   ]
  },
  {
   "cell_type": "markdown",
   "metadata": {},
   "source": [
    "Limpiando el data set"
   ]
  },
  {
   "cell_type": "code",
   "execution_count": 63,
   "metadata": {
    "collapsed": true
   },
   "outputs": [],
   "source": [
    "x = data[:, 0]\n",
    "y = data[:, 1]"
   ]
  },
  {
   "cell_type": "markdown",
   "metadata": {},
   "source": [
    "Buscamos el total de número de entradas invalidas"
   ]
  },
  {
   "cell_type": "code",
   "execution_count": 64,
   "metadata": {
    "collapsed": false
   },
   "outputs": [
    {
     "name": "stdout",
     "output_type": "stream",
     "text": [
      "('Number of invalid entries:', 8)\n"
     ]
    }
   ],
   "source": [
    "print(\"Number of invalid entries:\", sp.sum(sp.isnan(y)))\n",
    "x = x[~sp.isnan(y)]\n",
    "y = y[~sp.isnan(y)]"
   ]
  },
  {
   "cell_type": "markdown",
   "metadata": {},
   "source": [
    "Preparando datos para graficar un modelo"
   ]
  },
  {
   "cell_type": "code",
   "execution_count": 65,
   "metadata": {
    "collapsed": true
   },
   "outputs": [],
   "source": [
    "\n",
    "import matplotlib.pyplot as plt\n",
    "%matplotlib inline\n",
    "\n",
    "def plot_data(x, y, s):\n",
    "    plt.scatter(x, y, s=s)\n",
    "    plt.title(\"Web traffic over the last month\")\n",
    "    plt.xlabel(\"Time\")\n",
    "    plt.ylabel(\"Hits/hour\")\n",
    "    plt.xticks(\n",
    "        [w * 7 * 24 for w in range(10)], ['week %i' % w for w in range(20)])\n",
    "    plt.autoscale(tight=True)\n",
    "    plt.grid()\n",
    "    plt.show()\n",
    "    \n",
    "def plot_model(f, linestyle, linewidth, color):\n",
    "    fx = sp.linspace(0, x[-1], 1000)\n",
    "    plt.plot(fx, f(fx), linestyle=linestyle, linewidth=linewidth, c=color)\n",
    "    plt.legend([\"model d=%i\" % f.order], loc=\"upper left\")"
   ]
  },
  {
   "cell_type": "code",
   "execution_count": 66,
   "metadata": {
    "collapsed": true
   },
   "outputs": [],
   "source": [
    "def error(f, x, y):\n",
    "    return sp.sum((f(x) - y) ** 2)"
   ]
  },
  {
   "cell_type": "code",
   "execution_count": 67,
   "metadata": {
    "collapsed": false
   },
   "outputs": [
    {
     "name": "stdout",
     "output_type": "stream",
     "text": [
      "Model parameters of fp1: [   2.59619213  989.02487106]\n",
      "('Error of the model of fp1:', array([  3.17389767e+08]))\n",
      "f(x):  \n",
      "2.596 x + 989\n"
     ]
    }
   ],
   "source": [
    "fp1, res1, rank1, sv1, rcond1 = sp.polyfit(x, y, 1, full=True)\n",
    "print(\"Model parameters of fp1: %s\" % fp1)\n",
    "print(\"Error of the model of fp1:\", res1)\n",
    "\n",
    "f1 = sp.poly1d(fp1)\n",
    "print (\"f(x): %s\" % f1)"
   ]
  },
  {
   "cell_type": "markdown",
   "metadata": {},
   "source": [
    "Grafica de datos del ejercicio"
   ]
  },
  {
   "cell_type": "code",
   "execution_count": 68,
   "metadata": {
    "collapsed": false
   },
   "outputs": [
    {
     "data": {
      "image/png": "[encoded data removed]",
      "text/plain": [
       "<matplotlib.figure.Figure at 0xb0432e8>"
      ]
     },
     "metadata": {},
     "output_type": "display_data"
    }
   ],
   "source": [
    "#plot_model(f1, '-', 2, 'g')\n",
    "plot_data(x, y, s=1)"
   ]
  },
  {
   "cell_type": "code",
   "execution_count": 69,
   "metadata": {
    "collapsed": false
   },
   "outputs": [
    {
     "name": "stderr",
     "output_type": "stream",
     "text": [
      "C:\\Users\\Administrador.000\\Anaconda2\\lib\\site-packages\\ipykernel\\__main__.py:2: VisibleDeprecationWarning: using a non-integer number instead of an integer will result in an error in the future\n",
      "  from ipykernel import kernelapp as app\n",
      "C:\\Users\\Administrador.000\\Anaconda2\\lib\\site-packages\\ipykernel\\__main__.py:3: VisibleDeprecationWarning: using a non-integer number instead of an integer will result in an error in the future\n",
      "  app.launch_new_instance()\n",
      "C:\\Users\\Administrador.000\\Anaconda2\\lib\\site-packages\\ipykernel\\__main__.py:4: VisibleDeprecationWarning: using a non-integer number instead of an integer will result in an error in the future\n",
      "C:\\Users\\Administrador.000\\Anaconda2\\lib\\site-packages\\ipykernel\\__main__.py:5: VisibleDeprecationWarning: using a non-integer number instead of an integer will result in an error in the future\n"
     ]
    }
   ],
   "source": [
    "inflection = 3.5 * 7 * 24\n",
    "xa = x[:inflection]\n",
    "ya = y[:inflection]\n",
    "xb = x[inflection:]\n",
    "yb = y[inflection:]\n",
    "\n",
    "fa = sp.poly1d(sp.polyfit(xa, ya, 1))\n",
    "fb = sp.poly1d(sp.polyfit(xb, yb, 1))\n",
    "\n",
    "#plot_models(x, y, [fa, fb])"
   ]
  },
  {
   "cell_type": "code",
   "execution_count": 70,
   "metadata": {
    "collapsed": false
   },
   "outputs": [
    {
     "name": "stdout",
     "output_type": "stream",
     "text": [
      "Trained only on data after inflection point\n"
     ]
    },
    {
     "name": "stderr",
     "output_type": "stream",
     "text": [
      "C:\\Users\\Administrador.000\\Anaconda2\\lib\\site-packages\\numpy\\lib\\polynomial.py:595: RankWarning: Polyfit may be poorly conditioned\n",
      "  warnings.warn(msg, RankWarning)\n",
      "C:\\Users\\Administrador.000\\Anaconda2\\lib\\site-packages\\numpy\\lib\\polynomial.py:595: RankWarning: Polyfit may be poorly conditioned\n",
      "  warnings.warn(msg, RankWarning)\n"
     ]
    }
   ],
   "source": [
    "print(\"Trained only on data after inflection point\")\n",
    "fb1 = fb\n",
    "fb2 = sp.poly1d(sp.polyfit(xb, yb, 2))\n",
    "fb3 = sp.poly1d(sp.polyfit(xb, yb, 3))\n",
    "fb10 = sp.poly1d(sp.polyfit(xb, yb, 10))\n",
    "fb100 = sp.poly1d(sp.polyfit(xb, yb, 100))"
   ]
  },
  {
   "cell_type": "code",
   "execution_count": 71,
   "metadata": {
    "collapsed": false
   },
   "outputs": [],
   "source": [
    "# separating training from testing data\n",
    "frac = 0.3\n",
    "split_idx = int(frac * len(xb))\n",
    "shuffled = sp.random.permutation(list(range(len(xb))))\n",
    "\n",
    "test = sorted(shuffled[:split_idx])\n",
    "train = sorted(shuffled[split_idx:])\n",
    "\n",
    "fbt1 = sp.poly1d(sp.polyfit(xb[train], yb[train], 1))\n",
    "fbt2 = sp.poly1d(sp.polyfit(xb[train], yb[train], 2))"
   ]
  },
  {
   "cell_type": "code",
   "execution_count": 72,
   "metadata": {
    "collapsed": false
   },
   "outputs": [
    {
     "name": "stdout",
     "output_type": "stream",
     "text": [
      "        2\n",
      "0.1058 x - 119.8 x + 3.579e+04\n",
      "        2\n",
      "0.1058 x - 119.8 x - 6.421e+04\n",
      "100,000 hits/hour expected at week 9.103279\n"
     ]
    }
   ],
   "source": [
    "from scipy.optimize import fsolve\n",
    "print(fbt2)\n",
    "print(fbt2 - 100000)\n",
    "reached_max = fsolve(fbt2 - 100000, x0=800) / (7 * 24)\n",
    "print(\"100,000 hits/hour expected at week %f\" % reached_max[0])"
   ]
  },
  {
   "cell_type": "code",
   "execution_count": 73,
   "metadata": {
    "collapsed": false
   },
   "outputs": [
    {
     "name": "stdout",
     "output_type": "stream",
     "text": [
      "Model parameters of fp1: [  1.05322215e-02  -5.26545650e+00   1.97476082e+03]\n",
      "('Error of the model of fp1:', array([  1.79983508e+08]))\n",
      "f(x):          2\n",
      "0.01053 x - 5.265 x + 1975\n"
     ]
    }
   ],
   "source": [
    "# create and plot models: Polynomial of degree = 2\n",
    "fp2, res2, rank2, sv2, rcond2 = sp.polyfit(x, y, 2, full=True)\n",
    "print(\"Model parameters of fp1: %s\" % fp2)\n",
    "print(\"Error of the model of fp1:\", res2)\n",
    "\n",
    "f2 = sp.poly1d(fp2)\n",
    "print (\"f(x): %s\" % f2)\n",
    "#print (\"Error: \", error(f2, x, y))\n",
    "\n",
    "#plot_model(f1, '-', 2, 'g') # Model 1\n",
    "#plot_model(f2, '-', 2, 'b') # Model 2\n",
    "#plot_data(x, y, s=1)\n"
   ]
  },
  {
   "cell_type": "code",
   "execution_count": 74,
   "metadata": {
    "collapsed": true
   },
   "outputs": [],
   "source": [
    "#Funcion \n",
    "def plot_models(x, y, models, mx=None, ymax=None, xmin=None):\n",
    "    \n",
    "    colors = ['g', 'r', 'b', 'm', 'k']\n",
    "    linestyles = ['-', '-', '--', ':', '-']\n",
    "\n",
    "    plt.figure(num=None, figsize=(8, 6))\n",
    "    plt.clf()\n",
    "    plt.scatter(x, y, s=1)\n",
    "    plt.title(\"Web traffic over the last month\")\n",
    "    plt.xlabel(\"Time\")\n",
    "    plt.ylabel(\"Hits/hour\")\n",
    "    plt.xticks(\n",
    "        [w * 7 * 24 for w in range(20)], ['week %i' % w for w in range(20)])\n",
    "\n",
    "    if models:\n",
    "        if mx is None:\n",
    "            mx = sp.linspace(0, x[-1], 1000)\n",
    "        for model, style, color in zip(models, linestyles, colors):\n",
    "            # print \"Model:\",model\n",
    "            # print \"Coeffs:\",model.coeffs\n",
    "            plt.plot(mx, model(mx), linestyle=style, linewidth=2, c=color)\n",
    "\n",
    "        plt.legend([\"model d=%i\" % m.order for m in models], loc=\"upper left\")\n",
    "\n",
    "    plt.autoscale(tight=True)\n",
    "    plt.ylim(ymin=0)\n",
    "    if ymax:\n",
    "        plt.ylim(ymax=ymax)\n",
    "    if xmin:\n",
    "        plt.xlim(xmin=xmin)\n",
    "    plt.grid(True, linestyle='-', color='0.75')"
   ]
  },
  {
   "cell_type": "code",
   "execution_count": 75,
   "metadata": {
    "collapsed": false
   },
   "outputs": [
    {
     "data": {
      "image/png": "[encoded data removed]",
      "text/plain": [
       "<matplotlib.figure.Figure at 0xb1b97f0>"
      ]
     },
     "metadata": {},
     "output_type": "display_data"
    }
   ],
   "source": [
    "# extrapolating into the future\n",
    "plot_models(\n",
    "    x, y, [fbt2],\n",
    "        mx=sp.linspace(0, reached_max[0] * 7 * 24, 100),\n",
    "    ymax=100000, xmin=0)"
   ]
  },
  {
   "cell_type": "markdown",
   "metadata": {},
   "source": [
    "De la grafica anterior se puede inferir que entre las semanas 9 y 10 habrán 100.000 visitas, aproximadamente en la semana 9.7.\n"
   ]
  }
 ],
 "metadata": {
  "anaconda-cloud": {},
  "kernelspec": {
   "display_name": "Python [Root]",
   "language": "python",
   "name": "Python [Root]"
  },
  "language_info": {
   "codemirror_mode": {
    "name": "ipython",
    "version": 2
   },
   "file_extension": ".py",
   "mimetype": "text/x-python",
   "name": "python",
   "nbconvert_exporter": "python",
   "pygments_lexer": "ipython2",
   "version": "2.7.12"
  }
 },
 "nbformat": 4,
 "nbformat_minor": 0
}
