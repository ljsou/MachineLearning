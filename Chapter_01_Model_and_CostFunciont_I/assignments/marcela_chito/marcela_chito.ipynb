{
 "cells": [
  {
   "cell_type": "markdown",
   "metadata": {
    "collapsed": true
   },
   "source": [
    "# Ejercicio de inteligencia artificial "
   ]
  },
  {
   "cell_type": "code",
   "execution_count": 11,
   "metadata": {
    "collapsed": false
   },
   "outputs": [
    {
     "name": "stdout",
     "output_type": "stream",
     "text": [
      "10.1317216486149\n",
      "[-665.292371656529, 1702.12923696730]\n"
     ]
    }
   ],
   "source": [
    "from scipy.optimize import fsolve\n",
    "from sympy import *\n",
    "x = Symbol('x')\n",
    "sol=solve(0.07031*x*x - 72.9*x + 2.038e+04 - 100000, x)\n",
    "maxi=max(sol)/ (7 * 24)\n",
    "print(maxi) \n",
    "print(sol)"
   ]
  },
  {
   "cell_type": "code",
   "execution_count": 12,
   "metadata": {
    "collapsed": false
   },
   "outputs": [
    {
     "name": "stdout",
     "output_type": "stream",
     "text": [
      "[[  1.00000000e+00   2.27200000e+03]\n",
      " [  2.00000000e+00              nan]\n",
      " [  3.00000000e+00   1.38600000e+03]\n",
      " [  4.00000000e+00   1.36500000e+03]\n",
      " [  5.00000000e+00   1.48800000e+03]\n",
      " [  6.00000000e+00   1.33700000e+03]\n",
      " [  7.00000000e+00   1.88300000e+03]\n",
      " [  8.00000000e+00   2.28300000e+03]\n",
      " [  9.00000000e+00   1.33500000e+03]\n",
      " [  1.00000000e+01   1.02500000e+03]]\n",
      "(743, 2)\n"
     ]
    }
   ],
   "source": [
    "import scipy as sp\n",
    "data = sp.genfromtxt(\"data/web_traffic.tsv\", delimiter=\"\\t\")\n",
    "print(data[:10])\n",
    "print(data.shape)"
   ]
  },
  {
   "cell_type": "code",
   "execution_count": 13,
   "metadata": {
    "collapsed": false
   },
   "outputs": [
    {
     "name": "stdout",
     "output_type": "stream",
     "text": [
      "(743,)\n"
     ]
    }
   ],
   "source": [
    "x = data[:,0]\n",
    "y = data[:,1]\n",
    "#print(x)\n",
    "print(x.shape)\n"
   ]
  },
  {
   "cell_type": "markdown",
   "metadata": {},
   "source": [
    "Creando los arreglos x y y para realizar la regresión exponencial"
   ]
  },
  {
   "cell_type": "code",
   "execution_count": 14,
   "metadata": {
    "collapsed": false
   },
   "outputs": [
    {
     "name": "stdout",
     "output_type": "stream",
     "text": [
      "(743,)\n"
     ]
    }
   ],
   "source": [
    "x = data[:,0]\n",
    "#print(y)\n",
    "print(y.shape)"
   ]
  },
  {
   "cell_type": "markdown",
   "metadata": {},
   "source": [
    "Eliminando los valores para los cuales hay entradas inválidas"
   ]
  },
  {
   "cell_type": "code",
   "execution_count": 15,
   "metadata": {
    "collapsed": false
   },
   "outputs": [
    {
     "name": "stdout",
     "output_type": "stream",
     "text": [
      "Number of invalid entries: 8\n",
      "(735,)\n"
     ]
    }
   ],
   "source": [
    "print(\"Number of invalid entries:\", sp.sum(sp.isnan(y)))\n",
    "x = x[~sp.isnan(y)]\n",
    "y = y[~sp.isnan(y)]\n",
    "#print(y)\n",
    "print(y.shape)"
   ]
  },
  {
   "cell_type": "code",
   "execution_count": 16,
   "metadata": {
    "collapsed": true
   },
   "outputs": [],
   "source": [
    "import matplotlib.pyplot as plt #Allows to create charts\n",
    "%matplotlib inline \n",
    "\n",
    "def plot_data(x, y, s):\n",
    "    plt.scatter(x, y, s=s)\n",
    "    plt.title(\"Web traffic over the last month\")\n",
    "    plt.xlabel(\"Time\")\n",
    "    plt.ylabel(\"Hits/hour\")\n",
    "    plt.xticks(\n",
    "        [w * 7 * 24 for w in range(10)], ['week %i' % w for w in range(10)])\n",
    "    plt.autoscale(tight=True)\n",
    "    plt.grid()\n",
    "    plt.show()"
   ]
  },
  {
   "cell_type": "code",
   "execution_count": 17,
   "metadata": {
    "collapsed": false
   },
   "outputs": [
    {
     "data": {
      "image/png": "[encoded data removed]",
      "text/plain": [
       "<matplotlib.figure.Figure at 0x5df8d90>"
      ]
     },
     "metadata": {},
     "output_type": "display_data"
    }
   ],
   "source": [
    "plot_data(x, y, s=1)"
   ]
  },
  {
   "cell_type": "markdown",
   "metadata": {},
   "source": [
    "Se realiza la regresión no lineal aproximando los datos a una función exponencial de la forma f(x)=ae^(bx)+c"
   ]
  },
  {
   "cell_type": "code",
   "execution_count": 18,
   "metadata": {
    "collapsed": true
   },
   "outputs": [],
   "source": [
    "import numpy as np\n",
    "from scipy.optimize import curve_fit\n",
    "def func(x, a, b, c):\n",
    "     return a * np.exp(-b * x) + c"
   ]
  },
  {
   "cell_type": "code",
   "execution_count": 19,
   "metadata": {
    "collapsed": false,
    "scrolled": false
   },
   "outputs": [],
   "source": [
    "popt, pcov = curve_fit(func, x, y,p0=(1, 1e-6, 1))\n"
   ]
  },
  {
   "cell_type": "code",
   "execution_count": 20,
   "metadata": {
    "collapsed": false
   },
   "outputs": [
    {
     "name": "stdout",
     "output_type": "stream",
     "text": [
      "[  6.09563500e-01  -1.16689748e-02   1.54580090e+03]\n"
     ]
    }
   ],
   "source": [
    "print(popt)"
   ]
  },
  {
   "cell_type": "code",
   "execution_count": 21,
   "metadata": {
    "collapsed": false
   },
   "outputs": [
    {
     "data": {
      "text/plain": [
       "[<matplotlib.lines.Line2D at 0x7b33770>,\n",
       " <matplotlib.lines.Line2D at 0x7b338f0>]"
      ]
     },
     "execution_count": 21,
     "metadata": {},
     "output_type": "execute_result"
    },
    {
     "data": {
      "image/png": "[encoded data removed]",
      "text/plain": [
       "<matplotlib.figure.Figure at 0x7a98790>"
      ]
     },
     "metadata": {},
     "output_type": "display_data"
    }
   ],
   "source": [
    "import matplotlib.pyplot as plt\n",
    "yy = func(x,   *popt)\n",
    "#plot_data(x, y, s=1)\n",
    "#plot_data(x, yy,s=1)\n",
    "plt.plot(x, y, 'bo', x, yy, 'ko')\n"
   ]
  },
  {
   "cell_type": "markdown",
   "metadata": {},
   "source": [
    "Ahora, teniendo la función que se ajusta a los datos, se halla la semana donde se pronostican 1000000 visitas/hora:"
   ]
  },
  {
   "cell_type": "code",
   "execution_count": 22,
   "metadata": {
    "collapsed": false
   },
   "outputs": [],
   "source": [
    "\n",
    "from scipy.optimize import fsolve\n",
    "from sympy import *\n",
    "#import numpy as np\n",
    "a=popt[0]\n",
    "b=popt[1]\n",
    "c=popt[2]\n",
    "func2 = lambda xs :a * np.exp(-b * xs) + c-100000\n",
    "func3 =lambda xs :a * np.exp(-b * xs) + c\n",
    "#sol=fsolve(a * np.exp(-b * xs) + c-100000, xs)\n",
    "sol = fsolve(func2, 1000)\n",
    "sol1=sol/(24*7)"
   ]
  },
  {
   "cell_type": "markdown",
   "metadata": {},
   "source": [
    "La semana en donde se pronostican 100000 visitas/hora es:"
   ]
  },
  {
   "cell_type": "code",
   "execution_count": 23,
   "metadata": {
    "collapsed": false
   },
   "outputs": [
    {
     "name": "stdout",
     "output_type": "stream",
     "text": [
      "6.11734019271\n"
     ]
    }
   ],
   "source": [
    "print(sol1[0])"
   ]
  },
  {
   "cell_type": "markdown",
   "metadata": {},
   "source": [
    "Verificando la solución:"
   ]
  },
  {
   "cell_type": "code",
   "execution_count": 238,
   "metadata": {
    "collapsed": false
   },
   "outputs": [
    {
     "name": "stdout",
     "output_type": "stream",
     "text": [
      "[ 100000.]\n"
     ]
    }
   ],
   "source": [
    "print(func3(sol))"
   ]
  }
 ],
 "metadata": {
  "anaconda-cloud": {},
  "kernelspec": {
   "display_name": "Python [Root]",
   "language": "python",
   "name": "Python [Root]"
  },
  "language_info": {
   "codemirror_mode": {
    "name": "ipython",
    "version": 3
   },
   "file_extension": ".py",
   "mimetype": "text/x-python",
   "name": "python",
   "nbconvert_exporter": "python",
   "pygments_lexer": "ipython3",
   "version": "3.5.2"
  }
 },
 "nbformat": 4,
 "nbformat_minor": 0
}
