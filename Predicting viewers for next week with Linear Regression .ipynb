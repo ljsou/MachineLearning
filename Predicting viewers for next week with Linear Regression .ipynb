{
 "cells": [
  {
   "cell_type": "code",
   "execution_count": 111,
   "metadata": {
    "collapsed": true
   },
   "outputs": [],
   "source": [
    "import csv\n",
    "import sys\n",
    "import matplotlib.pyplot as plt\n",
    "import numpy as np\n",
    "import pandas as pd\n",
    "import scipy as sp\n",
    "\n",
    "from sklearn import datasets, linear_model"
   ]
  },
  {
   "cell_type": "code",
   "execution_count": 112,
   "metadata": {
    "collapsed": false
   },
   "outputs": [],
   "source": [
    "def get_data(file_name):\n",
    "    # data = pd.read_csv(file_name)\n",
    "    data = sp.genfromtxt(file_name, delimiter=\"\\t\")\n",
    "    print data\n",
    "    \n",
    "    x_tbbt = data[:, 0]\n",
    "    y_tbbt = data[:, 1]\n",
    "    x_frns = data[:, 2]\n",
    "    y_frns = data[:, 3]\n",
    "    \n",
    "    x_tbbt = x_tbbt[~sp.isnan(y_tbbt)]\n",
    "    y_tbbt = y_tbbt[~sp.isnan(y_tbbt)]\n",
    "    x_frns = x_frns[~sp.isnan(y_frns)]\n",
    "    y_frns = y_frns[~sp.isnan(y_frns)]\n",
    "    \n",
    "    tbbt_x_parameter = []\n",
    "    tbbt_y_parameter = []\n",
    "    frns_x_parameter = []\n",
    "    frns_y_parameter = []\n",
    "    for x1,y1,x2,y2 in zip(x_tbbt, y_tbbt, x_frns, y_frns):\n",
    "        tbbt_x_parameter.append([float(x1)])\n",
    "        tbbt_y_parameter.append(float(y1))\n",
    "        frns_x_parameter.append([float(x2)])\n",
    "        frns_y_parameter.append(float(y2))\n",
    "    return tbbt_x_parameter,tbbt_y_parameter,frns_x_parameter,frns_y_parameter"
   ]
  },
  {
   "cell_type": "code",
   "execution_count": 113,
   "metadata": {
    "collapsed": true
   },
   "outputs": [],
   "source": [
    "%matplotlib inline\n",
    "# Plot outputs\n",
    "def plot_prediction (m, x, y, title):\n",
    "    plt.scatter(x, y,  color='black')\n",
    "    plt.title(title)\n",
    "    plt.xlabel(\"Time\")\n",
    "    plt.ylabel(\"Viwers (Millons)\")\n",
    "    plt.xticks(\n",
    "        [w for w in range(10)], ['ep %i' % w for w in range(10)])\n",
    "    plt.autoscale(tight=True)\n",
    "    plt.grid()\n",
    "    plt.plot(x, m.predict(x), color='blue', linewidth=3)\n",
    "    plt.show()"
   ]
  },
  {
   "cell_type": "code",
   "execution_count": 114,
   "metadata": {
    "collapsed": false
   },
   "outputs": [],
   "source": [
    "# Function to know which Tv show will have more viewers\n",
    "def more_viewers(x1,y1,x2,y2):\n",
    "    regr1 = linear_model.LinearRegression()\n",
    "    regr1.fit(x1, y1)\n",
    "    predicted_value1 = regr1.predict(9)\n",
    "    print predicted_value1\n",
    "    regr2 = linear_model.LinearRegression()\n",
    "    regr2.fit(x2, y2)\n",
    "    predicted_value2 = regr2.predict(9)\n",
    "    #print predicted_value1\n",
    "    #print predicted_value2\n",
    "    if predicted_value1 > predicted_value2:\n",
    "        print \"The TBBT Tv Show will have more viewers for next week\"\n",
    "    else:\n",
    "        print \"Friends Tv Show will have more viewers for next week\"\n",
    "        \n",
    "    plot_prediction (regr1, x1, y1, \"TBBT\")\n",
    "    plot_prediction (regr2, x2, y2, \"Friends\")"
   ]
  },
  {
   "cell_type": "code",
   "execution_count": 115,
   "metadata": {
    "collapsed": false
   },
   "outputs": [
    {
     "name": "stdout",
     "output_type": "stream",
     "text": [
      "[[  nan   nan   nan   nan]\n",
      " [ 1.    4.83  1.    2.84]\n",
      " [ 2.    4.27  2.    2.32]\n",
      " [ 3.    3.59  3.    2.55]\n",
      " [ 4.    3.53  4.    2.49]\n",
      " [ 5.    3.46  5.    2.73]\n",
      " [ 6.    3.73  6.    2.6 ]\n",
      " [ 7.    3.47  7.    2.64]\n",
      " [ 8.    4.34  8.    3.92]\n",
      " [ 9.    4.66  9.    3.06]]\n",
      "[[1.0], [2.0], [3.0], [4.0], [5.0], [6.0], [7.0], [8.0], [9.0]] [4.83, 4.27, 3.59, 3.53, 3.46, 3.73, 3.47, 4.34, 4.66] [[1.0], [2.0], [3.0], [4.0], [5.0], [6.0], [7.0], [8.0], [9.0]] [2.84, 2.32, 2.55, 2.49, 2.73, 2.6, 2.64, 3.92, 3.06]\n",
      "[ 3.95266667]\n",
      "The TBBT Tv Show will have more viewers for next week\n"
     ]
    },
    {
     "data": {
      "image/png": "[encoded data removed]",
      "text/plain": [
       "<matplotlib.figure.Figure at 0x106f2f410>"
      ]
     },
     "metadata": {},
     "output_type": "display_data"
    },
    {
     "data": {
      "image/png": "[encoded data removed]",
      "text/plain": [
       "<matplotlib.figure.Figure at 0x106f53990>"
      ]
     },
     "metadata": {},
     "output_type": "display_data"
    }
   ],
   "source": [
    "x1,y1,x2,y2 = get_data('data_tv_shows.tsv')\n",
    "print x1,y1,x2,y2\n",
    "more_viewers(x1,y1,x2,y2)"
   ]
  },
  {
   "cell_type": "code",
   "execution_count": null,
   "metadata": {
    "collapsed": true
   },
   "outputs": [],
   "source": []
  }
 ],
 "metadata": {
  "kernelspec": {
   "display_name": "Python 2",
   "language": "python",
   "name": "python2"
  },
  "language_info": {
   "codemirror_mode": {
    "name": "ipython",
    "version": 2
   },
   "file_extension": ".py",
   "mimetype": "text/x-python",
   "name": "python",
   "nbconvert_exporter": "python",
   "pygments_lexer": "ipython2",
   "version": "2.7.6"
  }
 },
 "nbformat": 4,
 "nbformat_minor": 0
}
